{
 "cells": [
  {
   "cell_type": "code",
   "execution_count": 1,
   "source": [
    "import matplotlib.pyplot as plt\n",
    "import numpy as np\n",
    "import pandas as pd\n",
    "import seaborn as sns\n",
    "from pandas.plotting import register_matplotlib_converters\n",
    "register_matplotlib_converters()\n",
    "plt.rcParams.update({'font.size': 16}) # set font size"
   ],
   "outputs": [],
   "metadata": {}
  },
  {
   "cell_type": "code",
   "execution_count": 2,
   "source": [
    "# Import data (Make sure to parse dates. Consider setting index column to 'date'.)\n",
    "df = pd.read_csv('fcc-forum-pageviews.csv', index_col='date', parse_dates=['date'])"
   ],
   "outputs": [],
   "metadata": {}
  },
  {
   "cell_type": "code",
   "execution_count": 43,
   "source": [
    "# Clean data\n",
    "df = df[(df['value'] > df['value'].quantile(0.025)) &\n",
    "        (df['value'] < df['value'].quantile(0.975))]"
   ],
   "outputs": [],
   "metadata": {}
  },
  {
   "cell_type": "code",
   "execution_count": 38,
   "source": [
    "def draw_line_plot():\n",
    "    # Draw line plot\n",
    "    fig, ax = plt.subplots(figsize=(30,10))\n",
    "\n",
    "    dates = df.index\n",
    "    page_views = df['value']\n",
    "    \n",
    "    plt.ylim(20000, 180000)\n",
    "    \n",
    "    #TODO: Format graph to look like Figure_1.png\n",
    "    # Set y-valueange [0, 200000, 20000]\n",
    "    # Set x-value ticks [2016-07, 2017-01, 2017-07, 2018-01, 2018-07, 2019-01, 2019-07, 2020-01]\n",
    "    \n",
    "    ax.plot(dates, page_views, color='#d62728')\n",
    "    \n",
    "    ax.set_xlabel(\"Date\")\n",
    "    ax.set_ylabel(\"Page Views\")\n",
    "    ax.set_title(\"Daily freeCodeCamp Forum Page Views 5/2016-12/2019\")\n",
    "\n",
    "    # Save image and return fig (don't change this part)\n",
    "    fig.savefig('line_plot.png')\n",
    "    return fig"
   ],
   "outputs": [],
   "metadata": {}
  },
  {
   "cell_type": "code",
   "execution_count": 13,
   "source": [
    "def draw_bar_plot():\n",
    "    # Copy and modify data for monthly bar plot\n",
    "    df_bar = df.copy()\n",
    "    df_bar['month'] = df_bar.index.month\n",
    "    df_bar['year'] = df_bar.index.year\n",
    "    df_bar_grouped = df_bar.groupby([\"year\",\"month\"])[\"value\"].mean().unstack()\n",
    "    \n",
    "    months = ['January', 'Feburary', 'March', 'April', 'May', 'June', 'July',\n",
    "              'August', 'September', 'October', 'November', 'December']\n",
    "\n",
    "    # Draw bar plot\n",
    "    axes = df_bar_grouped.plot.bar(figsize=(16,8))\n",
    "    axes.set_xlabel(\"Years\")\n",
    "    axes.set_ylabel(\"Average Page Views\")\n",
    "    axes.legend(labels=months, title='Months')\n",
    "    fig = axes.get_figure()\n",
    "\n",
    "    # Save image and return fig (don't change this part)\n",
    "    fig.savefig('bar_plot.png')\n",
    "    return fig"
   ],
   "outputs": [],
   "metadata": {}
  },
  {
   "cell_type": "code",
   "execution_count": 36,
   "source": [
    "def draw_box_plot():\n",
    "    # Prepare data for box plots (this part is done!)\n",
    "    df_box = df.copy()\n",
    "    df_box.reset_index(inplace=True)\n",
    "    df_box['year'] = [d.year for d in df_box.date]\n",
    "    df_box['month'] = [d.strftime('%b') for d in df_box.date]\n",
    "\n",
    "    # Draw box plots (using Seaborn)\n",
    "    ylimits = (10000, 190000)\n",
    "    fig, axes = plt.subplots(1, 2, figsize=(20, 10), sharex=False, sharey=False)\n",
    "    months = ['Jan','Feb','Mar','Apr','May','Jun','Jul','Aug','Sep','Oct','Nov','Dec']\n",
    "    \n",
    "    sns.boxplot(x='year', y='value', data=df_box, ax=axes[0])\\\n",
    "    .set(xlabel=\"Year\", ylabel=\"Page Views\", title=\"Year-wise Box Plot (Trend)\", ylim=ylimits)\n",
    "\n",
    "    sns.boxplot(x='month', y='value', data=df_box, order=months, ax=axes[1])\\\n",
    "    .set(xlabel=\"Month\", ylabel=\"Page Views\", title=\"Month-wise Box Plot (Seasonality)\", ylim=ylimits)\n",
    "    \n",
    "    # Save image and return fig (don't change this part)\n",
    "    fig.savefig('box_plot.png')\n",
    "    return fig"
   ],
   "outputs": [],
   "metadata": {}
  }
 ],
 "metadata": {
  "kernelspec": {
   "display_name": "Python 3 (ipykernel)",
   "language": "python",
   "name": "python3"
  },
  "language_info": {
   "codemirror_mode": {
    "name": "ipython",
    "version": 3
   },
   "file_extension": ".py",
   "mimetype": "text/x-python",
   "name": "python",
   "nbconvert_exporter": "python",
   "pygments_lexer": "ipython3",
   "version": "3.9.4"
  }
 },
 "nbformat": 4,
 "nbformat_minor": 5
}